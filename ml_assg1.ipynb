{
 "cells": [
  {
   "cell_type": "markdown",
   "id": "4feb63c9-e6f8-4827-a346-d4e72387afd2",
   "metadata": {},
   "source": [
    "Q1.\n",
    "ans>\n",
    "1.Artificial Intelligence :- Artificial intelligence (AI) involves using computers to do things that traditionally \n",
    "                             require human intelligence. AI can process large amounts of data in ways that humans cannot. \n",
    "                             The goal for AI is to be able to do things like recognize patterns, make decisions, and judge \n",
    "                             like humans.\n",
    "            \n",
    "            EX: Facial reconization,alexa,gogoole search,chat GPT\n",
    "            \n",
    "2.MachinK Learning :- Machine learning is a subfield of artificial intelligence, which is broadly defined as the capability of\n",
    "                      a machine to imitate intelligent human behavior.\n",
    "    \n",
    "            EX : linear regression, decision trees, random forest, and XGBoost.\n",
    "\n",
    "3.Deep Learning :- Deep learning is a method in artificial intelligence (AI) that teaches computers to process data in a way \n",
    "                   that is inspired by the human brain. Deep learning models can recognize complex patterns in pictures, text,\n",
    "                   sounds, and other data to produce accurate insights and predictions.\n",
    "        \n",
    "           EX : Virtual Assistant,Sentiment Analysis,Self-driving Cars,etc\n",
    "            "
   ]
  },
  {
   "cell_type": "markdown",
   "id": "de64230c-4161-49f5-a3d6-af5ecc078ecb",
   "metadata": {},
   "source": [
    "Q2.\n",
    "ans>\n",
    "> Supervised learning :- Supervised learning is the types of machine learning in which machines are trained using well \"labelled\"\n",
    "                         training data, and on basis of that data, machines predict the output. The labelled data means some input\n",
    "                         data is already tagged with the correct output.\n",
    "\n",
    "        \n",
    "                  EX:- decision tree, logistic regression, linear regression, support vector machine."
   ]
  },
  {
   "cell_type": "markdown",
   "id": "c279e4ef-60a1-49ed-9a99-83102bcb4479",
   "metadata": {},
   "source": [
    "Q3.\n",
    "ans> Unsupervised learning is a type of machine learning in which models are trained using unlabeled dataset and are allowed to \n",
    "     act on that data without any supervision.\n",
    "    \n",
    "                   EX: dimension reduction and clustering etc."
   ]
  },
  {
   "cell_type": "markdown",
   "id": "a0beb20c-f213-4254-a8bf-553de6089392",
   "metadata": {},
   "source": [
    "Q4.\n",
    "\n",
    "ans> \n",
    "# Artificial Intelligence\n",
    "\n",
    "1.Technology: Uses decision trees, logic, and statistical data to mimic human intelligence\n",
    "\n",
    "2.Computational Requirements: Requires higher computational power to make machines acquire human-level intelligence\n",
    "\n",
    "3.Problem Solving Pattern: Chooses algorithms basis the complexity of the problem, contributing toward cost and time saving\n",
    "\n",
    "4.Data Dependency: Requires a lot of data to work on and obtain results\n",
    "\n",
    "5.Functionality: It is a broader segment focusing mainly on intelligent behavior rather than accuracy\n",
    "\n",
    "# Machine Learning\n",
    "\n",
    "1.Technology: Uses statistical methods and algorithms to enable machines to learn from experience\n",
    "\n",
    "2.Computational Requirements: Requires high-performance computers with good-quality GPU for the machine learning algorithms to                                   function\n",
    "3.Problem Solving Pattern: Divides a given problem into subsets, solves it individually, and gives a combined output\n",
    "\n",
    "4.Data Dependency: The more data a system receives, the more it learns to function better\n",
    "\n",
    "5.Functionality: Results are largely dependent on accuracy and patterns\n",
    "\n",
    "# Deep Learning\n",
    "\n",
    "1.Technology: It relies on algorithms and artificial neural networks designed to imitate how humans think and learn\n",
    "\n",
    "2.Computational Requirements: Deep learning is computationally expensive, given it is remarkable at diverse modeling phenomena\n",
    "\n",
    "3.Problem Solving Pattern: Analyzes complex problems in its hidden layers and performs automatic feature extraction\n",
    "\n",
    "4.Data Dependency: Powered by massive amounts of data\n",
    "\n",
    "5.Functionality: Derives specific features from the raw input\n",
    "\n",
    "# Data Science\n",
    "\n",
    "1.Technology: Uses math, programming, and business analysis to produce insights from vast volumes of data\n",
    "\n",
    "2.Computational Requirements:Requires higher RAM to find and extract patterns in data\n",
    "\n",
    "3.Problem Solving Pattern: Collect, analyze, and define data. DS uses analytics-based approaches to extract knowledge and                                      actionable insights\n",
    "\n",
    "4.Data Dependency: Heavily dependent on data\n",
    "\n",
    "5.Functionality: Proposes insightful solutions from raw undefined data for effective decision making\n"
   ]
  },
  {
   "cell_type": "markdown",
   "id": "70175624-d471-4c2e-a61f-bf5f5fc40397",
   "metadata": {},
   "source": [
    "Q5. \n",
    "\n",
    "The main difference between supervised vs unsupervised learning is the need for labelled training data.\n",
    "Supervised machine learning relies on labelled input and output training data, whereas unsupervised learning\n",
    "processes unlabelled or raw data.\n",
    "                                 But in the semi-supervised use both the data supervised and as well as unpsupervised"
   ]
  },
  {
   "cell_type": "markdown",
   "id": "a7dd80de-a293-4a67-873b-9a557a04921f",
   "metadata": {},
   "source": [
    "Q6.\n",
    "\n",
    "Training data is the set of the data on which the actual training takes place. \n",
    "Validation split helps to improve the model performance by fine-tuning the model \n",
    "after each epoch. The test set informs us about the final accuracy of the model \n",
    "after completing the training phase."
   ]
  },
  {
   "cell_type": "markdown",
   "id": "86f6c298-71cf-4f40-9b98-3ca7a748469b",
   "metadata": {},
   "source": [
    "Q7.\n",
    "\n",
    "The objective of Unsupervised Anomaly Detection is to detect previously unseen rare objects or events without \n",
    "any prior knowledge about these. The only information available is that the percentage of anomalies in the \n",
    "dataset is small, usually less than 1%.\n"
   ]
  },
  {
   "cell_type": "markdown",
   "id": "1c2e6982-1252-4caa-ab54-37f453c4a0a6",
   "metadata": {},
   "source": [
    "Q8.\n",
    "\n",
    "Used of supervised learinig: \n",
    " Risk Assessment, Image classification, Fraud Detection, spam filtering, etc.\n",
    "\n",
    "Used of unsupervised learning:\n",
    " clustering, association, and dimensionality reduction.    "
   ]
  },
  {
   "cell_type": "code",
   "execution_count": null,
   "id": "a305ffe2-5242-477e-9166-5b3c8a48bd70",
   "metadata": {},
   "outputs": [],
   "source": []
  },
  {
   "cell_type": "code",
   "execution_count": null,
   "id": "5d0dd896-5910-4323-b1f7-083759873b92",
   "metadata": {},
   "outputs": [],
   "source": []
  },
  {
   "cell_type": "code",
   "execution_count": null,
   "id": "f51b3021-e891-4a02-9a28-1cb86052ef7f",
   "metadata": {},
   "outputs": [],
   "source": []
  }
 ],
 "metadata": {
  "kernelspec": {
   "display_name": "Python 3 (ipykernel)",
   "language": "python",
   "name": "python3"
  },
  "language_info": {
   "codemirror_mode": {
    "name": "ipython",
    "version": 3
   },
   "file_extension": ".py",
   "mimetype": "text/x-python",
   "name": "python",
   "nbconvert_exporter": "python",
   "pygments_lexer": "ipython3",
   "version": "3.10.6"
  }
 },
 "nbformat": 4,
 "nbformat_minor": 5
}
